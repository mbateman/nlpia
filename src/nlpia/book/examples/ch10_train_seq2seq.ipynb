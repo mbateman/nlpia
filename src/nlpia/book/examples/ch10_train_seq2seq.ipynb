{
 "cells": [
  {
   "cell_type": "code",
   "execution_count": 1,
   "metadata": {},
   "outputs": [
    {
     "name": "stderr",
     "output_type": "stream",
     "text": [
      "/usr/local/miniconda3/envs/nlpiaenv/lib/python3.6/site-packages/h5py/__init__.py:36: FutureWarning: Conversion of the second argument of issubdtype from `float` to `np.floating` is deprecated. In future, it will be treated as `np.float64 == np.dtype(float).type`.\n",
      "  from ._conv import register_converters as _register_converters\n",
      "Using TensorFlow backend.\n"
     ]
    }
   ],
   "source": [
    "import os\n",
    "import pandas as pd\n",
    "import numpy as np\n",
    "from keras.models import Model\n",
    "from ch10 import construct_seq2seq_model\n",
    "from nlpia.loaders import get_data, DATA_PATH"
   ]
  },
  {
   "cell_type": "code",
   "execution_count": 2,
   "metadata": {},
   "outputs": [],
   "source": [
    "batch_size = 64  # Batch size for training.\n",
    "epochs = 100  # Number of epochs to train for.\n",
    "num_samples = 10000\n",
    "data_path = os.path.join(DATA_PATH, 'movie_dialog.txt')  # preprocessed CMU movie dialogue samples"
   ]
  },
  {
   "cell_type": "code",
   "execution_count": 3,
   "metadata": {},
   "outputs": [],
   "source": [
    "try:\n",
    "    import cPickle as pickle\n",
    "except ImportError:\n",
    "    import pickle\n",
    "\n",
    "from io import open\n",
    "\n",
    "with open(\"../data/characters_stats.pkl\", \"rb\") as filehandler:\n",
    "    input_characters, target_characters, input_token_index, target_token_index = pickle.load(filehandler)\n",
    "\n",
    "with open(\"../data/encoder_decoder_stats.pkl\", \"rb\") as filehandler:\n",
    "    num_encoder_tokens, num_decoder_tokens, max_encoder_seq_length, max_decoder_seq_length = pickle.load(filehandler)"
   ]
  },
  {
   "cell_type": "code",
   "execution_count": 10,
   "metadata": {},
   "outputs": [
    {
     "name": "stdout",
     "output_type": "stream",
     "text": [
      "Number of samples: 10000\n",
      "Number of unique input tokens: 44\n",
      "Number of unique output tokens: 46\n",
      "Max sequence length for inputs: 100\n",
      "Max sequence length for outputs: 102\n"
     ]
    }
   ],
   "source": [
    "input_texts = []\n",
    "target_texts = []\n",
    "input_characters = set()\n",
    "target_characters = set()\n",
    "lines = open(data_path).read().split('\\n')\n",
    "for line in lines[: min(num_samples, len(lines) - 1)]:\n",
    "    input_text, target_text = line.split('\\t')\n",
    "    # We use \"tab\" as the \"start sequence\" character\n",
    "    # for the targets, and \"\\n\" as \"end sequence\" character.\n",
    "    target_text = '\\t' + target_text + '\\n'\n",
    "    input_texts.append(input_text)\n",
    "    target_texts.append(target_text)\n",
    "    for char in input_text:\n",
    "        if char not in input_characters:\n",
    "            input_characters.add(char)\n",
    "    for char in target_text:\n",
    "        if char not in target_characters:\n",
    "            target_characters.add(char)\n",
    "\n",
    "input_characters = sorted(list(input_characters))\n",
    "target_characters = sorted(list(target_characters))\n",
    "num_encoder_tokens = len(input_characters)\n",
    "num_decoder_tokens = len(target_characters)\n",
    "max_encoder_seq_length = max([len(txt) for txt in input_texts])\n",
    "max_decoder_seq_length = max([len(txt) for txt in target_texts])\n",
    "\n",
    "print('Number of samples:', len(input_texts))\n",
    "print('Number of unique input tokens:', num_encoder_tokens)\n",
    "print('Number of unique output tokens:', num_decoder_tokens)\n",
    "print('Max sequence length for inputs:', max_encoder_seq_length)\n",
    "print('Max sequence length for outputs:', max_decoder_seq_length)"
   ]
  },
  {
   "cell_type": "code",
   "execution_count": 11,
   "metadata": {},
   "outputs": [],
   "source": [
    "encoder_input_data = np.zeros(\n",
    "    (len(input_texts), max_encoder_seq_length, num_encoder_tokens),\n",
    "    dtype='float32')\n",
    "decoder_input_data = np.zeros(\n",
    "    (len(input_texts), max_decoder_seq_length, num_decoder_tokens),\n",
    "    dtype='float32')\n",
    "decoder_target_data = np.zeros(\n",
    "    (len(input_texts), max_decoder_seq_length, num_decoder_tokens),\n",
    "    dtype='float32')"
   ]
  },
  {
   "cell_type": "code",
   "execution_count": 12,
   "metadata": {},
   "outputs": [],
   "source": [
    "for i, (input_text, target_text) in enumerate(zip(input_texts, target_texts)):\n",
    "    for t, char in enumerate(input_text):\n",
    "        encoder_input_data[i, t, input_token_index[char]] = 1.\n",
    "    for t, char in enumerate(target_text):\n",
    "        # decoder_target_data is ahead of decoder_input_data by one timestep\n",
    "        decoder_input_data[i, t, target_token_index[char]] = 1.\n",
    "        if t > 0:\n",
    "            # decoder_target_data will be ahead by one timestep\n",
    "            # and will not include the start character.\n",
    "            decoder_target_data[i, t - 1, target_token_index[char]] = 1."
   ]
  },
  {
   "cell_type": "code",
   "execution_count": 13,
   "metadata": {},
   "outputs": [],
   "source": [
    "# model = construct_seq2seq_model(num_encoder_tokens, num_decoder_tokens)\n",
    "from keras.layers import Input, LSTM, Dense\n",
    "batch_size = 64    # <1>\n",
    "epochs = 100       # <2>\n",
    "num_neurons = 256  # <3>\n",
    "\n",
    "encoder_inputs = Input(shape=(None, num_encoder_tokens))\n",
    "encoder = LSTM(num_neurons, return_state=True)\n",
    "_, state_h, state_c = encoder(encoder_inputs)\n",
    "\n",
    "encoder_states = [state_h, state_c]\n",
    "\n",
    "decoder_inputs = Input(shape=(None, num_decoder_tokens))\n",
    "decoder_lstm = LSTM(num_neurons, return_sequences=True, return_state=True)\n",
    "decoder_outputs, _, _ = decoder_lstm(decoder_inputs,\n",
    "                                     initial_state=encoder_states)\n",
    "decoder_dense = Dense(num_decoder_tokens, activation='softmax')\n",
    "decoder_outputs = decoder_dense(decoder_outputs)\n",
    "\n",
    "model = Model([encoder_inputs, decoder_inputs], decoder_outputs)"
   ]
  },
  {
   "cell_type": "code",
   "execution_count": 14,
   "metadata": {},
   "outputs": [
    {
     "name": "stdout",
     "output_type": "stream",
     "text": [
      "WARNING:tensorflow:From /usr/local/miniconda3/envs/nlpiaenv/lib/python3.6/site-packages/tensorflow/python/ops/math_ops.py:3066: to_int32 (from tensorflow.python.ops.math_ops) is deprecated and will be removed in a future version.\n",
      "Instructions for updating:\n",
      "Use tf.cast instead.\n",
      "2019-04-12 17:37:00,216 WARNING:     tensorflow:323:            new_func From /usr/local/miniconda3/envs/nlpiaenv/lib/python3.6/site-packages/tensorflow/python/ops/math_ops.py:3066: to_int32 (from tensorflow.python.ops.math_ops) is deprecated and will be removed in a future version.\n",
      "Instructions for updating:\n",
      "Use tf.cast instead.\n",
      "WARNING:tensorflow:From /usr/local/miniconda3/envs/nlpiaenv/lib/python3.6/site-packages/tensorflow/python/ops/math_grad.py:102: div (from tensorflow.python.ops.math_ops) is deprecated and will be removed in a future version.\n",
      "Instructions for updating:\n",
      "Deprecated in favor of operator or tf.math.divide.\n",
      "2019-04-12 17:37:00,306 WARNING:     tensorflow:323:            new_func From /usr/local/miniconda3/envs/nlpiaenv/lib/python3.6/site-packages/tensorflow/python/ops/math_grad.py:102: div (from tensorflow.python.ops.math_ops) is deprecated and will be removed in a future version.\n",
      "Instructions for updating:\n",
      "Deprecated in favor of operator or tf.math.divide.\n",
      "Train on 8000 samples, validate on 2000 samples\n",
      "Epoch 1/100\n",
      "8000/8000 [==============================] - 23s 3ms/step - loss: 1.0204 - acc: 0.0650 - val_loss: 0.8718 - val_acc: 0.0891\n",
      "Epoch 2/100\n",
      "8000/8000 [==============================] - 21s 3ms/step - loss: 0.8505 - acc: 0.1039 - val_loss: 0.7545 - val_acc: 0.1116\n",
      "Epoch 3/100\n",
      "8000/8000 [==============================] - 21s 3ms/step - loss: 0.7674 - acc: 0.1202 - val_loss: 0.6993 - val_acc: 0.1213\n",
      "Epoch 4/100\n",
      "8000/8000 [==============================] - 21s 3ms/step - loss: 0.7221 - acc: 0.1309 - val_loss: 0.6664 - val_acc: 0.1295\n",
      "Epoch 5/100\n",
      "8000/8000 [==============================] - 21s 3ms/step - loss: 0.6887 - acc: 0.1397 - val_loss: 0.6405 - val_acc: 0.1376\n",
      "Epoch 6/100\n",
      "8000/8000 [==============================] - 21s 3ms/step - loss: 0.6630 - acc: 0.1466 - val_loss: 0.6206 - val_acc: 0.1414\n",
      "Epoch 7/100\n",
      "8000/8000 [==============================] - 21s 3ms/step - loss: 0.6417 - acc: 0.1515 - val_loss: 0.6027 - val_acc: 0.1456\n",
      "Epoch 8/100\n",
      "8000/8000 [==============================] - 21s 3ms/step - loss: 0.6233 - acc: 0.1565 - val_loss: 0.5856 - val_acc: 0.1505\n",
      "Epoch 9/100\n",
      "8000/8000 [==============================] - 21s 3ms/step - loss: 0.6069 - acc: 0.1610 - val_loss: 0.5753 - val_acc: 0.1533\n",
      "Epoch 10/100\n",
      "8000/8000 [==============================] - 21s 3ms/step - loss: 0.5928 - acc: 0.1648 - val_loss: 0.5676 - val_acc: 0.1545\n",
      "Epoch 11/100\n",
      "8000/8000 [==============================] - 21s 3ms/step - loss: 0.5803 - acc: 0.1682 - val_loss: 0.5568 - val_acc: 0.1580\n",
      "Epoch 12/100\n",
      "8000/8000 [==============================] - 21s 3ms/step - loss: 0.5694 - acc: 0.1712 - val_loss: 0.5507 - val_acc: 0.1597\n",
      "Epoch 13/100\n",
      "8000/8000 [==============================] - 21s 3ms/step - loss: 0.5588 - acc: 0.1741 - val_loss: 0.5443 - val_acc: 0.1620\n",
      "Epoch 14/100\n",
      "8000/8000 [==============================] - 21s 3ms/step - loss: 0.5493 - acc: 0.1767 - val_loss: 0.5410 - val_acc: 0.1620\n",
      "Epoch 15/100\n",
      "8000/8000 [==============================] - 21s 3ms/step - loss: 0.5407 - acc: 0.1790 - val_loss: 0.5334 - val_acc: 0.1646\n",
      "Epoch 16/100\n",
      "8000/8000 [==============================] - 21s 3ms/step - loss: 0.5327 - acc: 0.1814 - val_loss: 0.5300 - val_acc: 0.1658\n",
      "Epoch 17/100\n",
      "8000/8000 [==============================] - 20s 3ms/step - loss: 0.5253 - acc: 0.1832 - val_loss: 0.5270 - val_acc: 0.1659\n",
      "Epoch 18/100\n",
      "8000/8000 [==============================] - 21s 3ms/step - loss: 0.5180 - acc: 0.1852 - val_loss: 0.5261 - val_acc: 0.1665\n",
      "Epoch 19/100\n",
      "8000/8000 [==============================] - 21s 3ms/step - loss: 0.5114 - acc: 0.1871 - val_loss: 0.5227 - val_acc: 0.1676\n",
      "Epoch 20/100\n",
      "8000/8000 [==============================] - 21s 3ms/step - loss: 0.5050 - acc: 0.1888 - val_loss: 0.5227 - val_acc: 0.1676\n",
      "Epoch 21/100\n",
      "8000/8000 [==============================] - 21s 3ms/step - loss: 0.4987 - acc: 0.1904 - val_loss: 0.5194 - val_acc: 0.1691\n",
      "Epoch 22/100\n",
      "8000/8000 [==============================] - 21s 3ms/step - loss: 0.4929 - acc: 0.1922 - val_loss: 0.5189 - val_acc: 0.1686\n",
      "Epoch 23/100\n",
      "8000/8000 [==============================] - 21s 3ms/step - loss: 0.4870 - acc: 0.1939 - val_loss: 0.5199 - val_acc: 0.1689\n",
      "Epoch 24/100\n",
      "8000/8000 [==============================] - 21s 3ms/step - loss: 0.4815 - acc: 0.1955 - val_loss: 0.5184 - val_acc: 0.1692\n",
      "Epoch 25/100\n",
      "8000/8000 [==============================] - 21s 3ms/step - loss: 0.4760 - acc: 0.1974 - val_loss: 0.5183 - val_acc: 0.1693\n",
      "Epoch 26/100\n",
      "8000/8000 [==============================] - 21s 3ms/step - loss: 0.4707 - acc: 0.1988 - val_loss: 0.5194 - val_acc: 0.1695\n",
      "Epoch 27/100\n",
      "8000/8000 [==============================] - 21s 3ms/step - loss: 0.4656 - acc: 0.2003 - val_loss: 0.5200 - val_acc: 0.1698\n",
      "Epoch 28/100\n",
      "8000/8000 [==============================] - 21s 3ms/step - loss: 0.4603 - acc: 0.2018 - val_loss: 0.5199 - val_acc: 0.1701\n",
      "Epoch 29/100\n",
      "8000/8000 [==============================] - 21s 3ms/step - loss: 0.4551 - acc: 0.2036 - val_loss: 0.5229 - val_acc: 0.1691\n",
      "Epoch 30/100\n",
      "8000/8000 [==============================] - 20s 3ms/step - loss: 0.4501 - acc: 0.2049 - val_loss: 0.5231 - val_acc: 0.1697\n",
      "Epoch 31/100\n",
      "8000/8000 [==============================] - 20s 3ms/step - loss: 0.4453 - acc: 0.2067 - val_loss: 0.5256 - val_acc: 0.1689\n",
      "Epoch 32/100\n",
      "8000/8000 [==============================] - 20s 3ms/step - loss: 0.4401 - acc: 0.2080 - val_loss: 0.5269 - val_acc: 0.1689\n",
      "Epoch 33/100\n",
      "8000/8000 [==============================] - 20s 3ms/step - loss: 0.4354 - acc: 0.2093 - val_loss: 0.5292 - val_acc: 0.1689\n",
      "Epoch 34/100\n",
      "8000/8000 [==============================] - 20s 3ms/step - loss: 0.4305 - acc: 0.2111 - val_loss: 0.5328 - val_acc: 0.1682\n",
      "Epoch 35/100\n",
      "8000/8000 [==============================] - 20s 3ms/step - loss: 0.4258 - acc: 0.2126 - val_loss: 0.5340 - val_acc: 0.1686\n",
      "Epoch 36/100\n",
      "8000/8000 [==============================] - 20s 3ms/step - loss: 0.4212 - acc: 0.2136 - val_loss: 0.5362 - val_acc: 0.1682\n",
      "Epoch 37/100\n",
      "8000/8000 [==============================] - 20s 3ms/step - loss: 0.4168 - acc: 0.2151 - val_loss: 0.5387 - val_acc: 0.1675\n",
      "Epoch 38/100\n",
      "8000/8000 [==============================] - 20s 3ms/step - loss: 0.4122 - acc: 0.2165 - val_loss: 0.5428 - val_acc: 0.1667\n",
      "Epoch 39/100\n",
      "8000/8000 [==============================] - 20s 3ms/step - loss: 0.4074 - acc: 0.2180 - val_loss: 0.5461 - val_acc: 0.1676\n",
      "Epoch 40/100\n",
      "8000/8000 [==============================] - 20s 3ms/step - loss: 0.4031 - acc: 0.2193 - val_loss: 0.5475 - val_acc: 0.1668\n",
      "Epoch 41/100\n",
      "8000/8000 [==============================] - 20s 3ms/step - loss: 0.3985 - acc: 0.2208 - val_loss: 0.5515 - val_acc: 0.1661\n",
      "Epoch 42/100\n",
      "8000/8000 [==============================] - 20s 3ms/step - loss: 0.3950 - acc: 0.2219 - val_loss: 0.5539 - val_acc: 0.1658\n",
      "Epoch 43/100\n",
      "8000/8000 [==============================] - 20s 3ms/step - loss: 0.3901 - acc: 0.2233 - val_loss: 0.5575 - val_acc: 0.1662\n",
      "Epoch 44/100\n",
      "8000/8000 [==============================] - 20s 3ms/step - loss: 0.3863 - acc: 0.2245 - val_loss: 0.5618 - val_acc: 0.1651\n",
      "Epoch 45/100\n",
      "8000/8000 [==============================] - 20s 3ms/step - loss: 0.3822 - acc: 0.2258 - val_loss: 0.5651 - val_acc: 0.1648\n",
      "Epoch 46/100\n",
      "8000/8000 [==============================] - 20s 3ms/step - loss: 0.3785 - acc: 0.2270 - val_loss: 0.5662 - val_acc: 0.1647\n",
      "Epoch 47/100\n",
      "8000/8000 [==============================] - 20s 3ms/step - loss: 0.3747 - acc: 0.2283 - val_loss: 0.5716 - val_acc: 0.1646\n",
      "Epoch 48/100\n",
      "8000/8000 [==============================] - 20s 3ms/step - loss: 0.3707 - acc: 0.2294 - val_loss: 0.5753 - val_acc: 0.1636\n",
      "Epoch 49/100\n",
      "8000/8000 [==============================] - 20s 3ms/step - loss: 0.3674 - acc: 0.2305 - val_loss: 0.5782 - val_acc: 0.1632\n",
      "Epoch 50/100\n",
      "8000/8000 [==============================] - 20s 3ms/step - loss: 0.3638 - acc: 0.2317 - val_loss: 0.5815 - val_acc: 0.1635\n",
      "Epoch 51/100\n"
     ]
    },
    {
     "name": "stdout",
     "output_type": "stream",
     "text": [
      "8000/8000 [==============================] - 20s 3ms/step - loss: 0.3603 - acc: 0.2327 - val_loss: 0.5861 - val_acc: 0.1631\n",
      "Epoch 52/100\n",
      "8000/8000 [==============================] - 20s 3ms/step - loss: 0.3573 - acc: 0.2337 - val_loss: 0.5895 - val_acc: 0.1634\n",
      "Epoch 53/100\n",
      "8000/8000 [==============================] - 20s 3ms/step - loss: 0.3739 - acc: 0.2282 - val_loss: 0.5874 - val_acc: 0.1631\n",
      "Epoch 54/100\n",
      "8000/8000 [==============================] - 20s 3ms/step - loss: 0.3587 - acc: 0.2327 - val_loss: 0.5908 - val_acc: 0.1620\n",
      "Epoch 55/100\n",
      "8000/8000 [==============================] - 20s 3ms/step - loss: 0.3526 - acc: 0.2349 - val_loss: 0.5951 - val_acc: 0.1628\n",
      "Epoch 56/100\n",
      "8000/8000 [==============================] - 20s 3ms/step - loss: 0.3485 - acc: 0.2364 - val_loss: 0.5982 - val_acc: 0.1628\n",
      "Epoch 57/100\n",
      "8000/8000 [==============================] - 20s 3ms/step - loss: 0.3446 - acc: 0.2377 - val_loss: 0.6023 - val_acc: 0.1617\n",
      "Epoch 58/100\n",
      "8000/8000 [==============================] - 20s 3ms/step - loss: 0.3414 - acc: 0.2387 - val_loss: 0.6048 - val_acc: 0.1620\n",
      "Epoch 59/100\n",
      "8000/8000 [==============================] - 20s 3ms/step - loss: 0.3388 - acc: 0.2397 - val_loss: 0.6119 - val_acc: 0.1610\n",
      "Epoch 60/100\n",
      "8000/8000 [==============================] - 20s 3ms/step - loss: 0.3357 - acc: 0.2402 - val_loss: 0.6145 - val_acc: 0.1606\n",
      "Epoch 61/100\n",
      "8000/8000 [==============================] - 20s 3ms/step - loss: 0.3333 - acc: 0.2409 - val_loss: 0.6169 - val_acc: 0.1602\n",
      "Epoch 62/100\n",
      "8000/8000 [==============================] - 20s 3ms/step - loss: 0.3306 - acc: 0.2419 - val_loss: 0.6204 - val_acc: 0.1609\n",
      "Epoch 63/100\n",
      "8000/8000 [==============================] - 20s 3ms/step - loss: 0.3284 - acc: 0.2427 - val_loss: 0.6237 - val_acc: 0.1607\n",
      "Epoch 64/100\n",
      "8000/8000 [==============================] - 20s 3ms/step - loss: 0.3258 - acc: 0.2433 - val_loss: 0.6271 - val_acc: 0.1599\n",
      "Epoch 65/100\n",
      "8000/8000 [==============================] - 20s 3ms/step - loss: 0.3238 - acc: 0.2441 - val_loss: 0.6292 - val_acc: 0.1608\n",
      "Epoch 66/100\n",
      "8000/8000 [==============================] - 20s 3ms/step - loss: 0.3215 - acc: 0.2448 - val_loss: 0.6356 - val_acc: 0.1591\n",
      "Epoch 67/100\n",
      "8000/8000 [==============================] - 20s 3ms/step - loss: 0.3194 - acc: 0.2452 - val_loss: 0.6388 - val_acc: 0.1584\n",
      "Epoch 68/100\n",
      "8000/8000 [==============================] - 20s 3ms/step - loss: 0.3177 - acc: 0.2459 - val_loss: 0.6418 - val_acc: 0.1589\n",
      "Epoch 69/100\n",
      "8000/8000 [==============================] - 20s 3ms/step - loss: 0.3156 - acc: 0.2465 - val_loss: 0.6455 - val_acc: 0.1591\n",
      "Epoch 70/100\n",
      "8000/8000 [==============================] - 20s 3ms/step - loss: 0.3134 - acc: 0.2470 - val_loss: 0.6474 - val_acc: 0.1596\n",
      "Epoch 71/100\n",
      "8000/8000 [==============================] - 20s 3ms/step - loss: 0.3123 - acc: 0.2474 - val_loss: 0.6498 - val_acc: 0.1589\n",
      "Epoch 72/100\n",
      "8000/8000 [==============================] - 20s 3ms/step - loss: 0.3102 - acc: 0.2480 - val_loss: 0.6529 - val_acc: 0.1590\n",
      "Epoch 73/100\n",
      "8000/8000 [==============================] - 20s 3ms/step - loss: 0.3083 - acc: 0.2489 - val_loss: 0.6572 - val_acc: 0.1584\n",
      "Epoch 74/100\n",
      "8000/8000 [==============================] - 20s 3ms/step - loss: 0.3069 - acc: 0.2490 - val_loss: 0.6586 - val_acc: 0.1582\n",
      "Epoch 75/100\n",
      "8000/8000 [==============================] - 20s 3ms/step - loss: 0.3048 - acc: 0.2497 - val_loss: 0.6630 - val_acc: 0.1584\n",
      "Epoch 76/100\n",
      "8000/8000 [==============================] - 20s 3ms/step - loss: 0.3034 - acc: 0.2501 - val_loss: 0.6646 - val_acc: 0.1579\n",
      "Epoch 77/100\n",
      "8000/8000 [==============================] - 21s 3ms/step - loss: 0.3018 - acc: 0.2503 - val_loss: 0.6669 - val_acc: 0.1576\n",
      "Epoch 78/100\n",
      "8000/8000 [==============================] - 20s 3ms/step - loss: 0.3005 - acc: 0.2508 - val_loss: 0.6713 - val_acc: 0.1582\n",
      "Epoch 79/100\n",
      "8000/8000 [==============================] - 20s 3ms/step - loss: 0.2988 - acc: 0.2514 - val_loss: 0.6722 - val_acc: 0.1577\n",
      "Epoch 80/100\n",
      "8000/8000 [==============================] - 20s 3ms/step - loss: 0.2971 - acc: 0.2519 - val_loss: 0.6753 - val_acc: 0.1574\n",
      "Epoch 81/100\n",
      "8000/8000 [==============================] - 20s 3ms/step - loss: 0.2961 - acc: 0.2522 - val_loss: 0.6784 - val_acc: 0.1576\n",
      "Epoch 82/100\n",
      "8000/8000 [==============================] - 20s 3ms/step - loss: 0.2944 - acc: 0.2530 - val_loss: 0.6805 - val_acc: 0.1581\n",
      "Epoch 83/100\n",
      "8000/8000 [==============================] - 20s 3ms/step - loss: 0.2934 - acc: 0.2529 - val_loss: 0.6822 - val_acc: 0.1584\n",
      "Epoch 84/100\n",
      "8000/8000 [==============================] - 20s 3ms/step - loss: 0.2920 - acc: 0.2534 - val_loss: 0.6839 - val_acc: 0.1583\n",
      "Epoch 85/100\n",
      "8000/8000 [==============================] - 20s 3ms/step - loss: 0.2902 - acc: 0.2538 - val_loss: 0.6921 - val_acc: 0.1574\n",
      "Epoch 86/100\n",
      "8000/8000 [==============================] - 20s 3ms/step - loss: 0.2900 - acc: 0.2540 - val_loss: 0.6907 - val_acc: 0.1572\n",
      "Epoch 87/100\n",
      "8000/8000 [==============================] - 20s 3ms/step - loss: 0.2878 - acc: 0.2548 - val_loss: 0.6961 - val_acc: 0.1572\n",
      "Epoch 88/100\n",
      "8000/8000 [==============================] - 20s 3ms/step - loss: 0.2874 - acc: 0.2549 - val_loss: 0.6977 - val_acc: 0.1569\n",
      "Epoch 89/100\n",
      "8000/8000 [==============================] - 20s 3ms/step - loss: 0.2855 - acc: 0.2553 - val_loss: 0.6986 - val_acc: 0.1573\n",
      "Epoch 90/100\n",
      "8000/8000 [==============================] - 20s 3ms/step - loss: 0.2848 - acc: 0.2555 - val_loss: 0.7021 - val_acc: 0.1571\n",
      "Epoch 91/100\n",
      "8000/8000 [==============================] - 20s 3ms/step - loss: 0.2835 - acc: 0.2560 - val_loss: 0.7053 - val_acc: 0.1559\n",
      "Epoch 92/100\n",
      "8000/8000 [==============================] - 20s 3ms/step - loss: 0.2819 - acc: 0.2563 - val_loss: 0.7056 - val_acc: 0.1562\n",
      "Epoch 93/100\n",
      "8000/8000 [==============================] - 20s 3ms/step - loss: 0.2812 - acc: 0.2562 - val_loss: 0.7077 - val_acc: 0.1570\n",
      "Epoch 94/100\n",
      "8000/8000 [==============================] - 20s 3ms/step - loss: 0.2802 - acc: 0.2567 - val_loss: 0.7076 - val_acc: 0.1569\n",
      "Epoch 95/100\n",
      "8000/8000 [==============================] - 20s 3ms/step - loss: 0.2785 - acc: 0.2573 - val_loss: 0.7133 - val_acc: 0.1565\n",
      "Epoch 96/100\n",
      "8000/8000 [==============================] - 20s 3ms/step - loss: 0.2780 - acc: 0.2573 - val_loss: 0.7151 - val_acc: 0.1567\n",
      "Epoch 97/100\n",
      "8000/8000 [==============================] - 20s 3ms/step - loss: 0.2772 - acc: 0.2578 - val_loss: 0.7191 - val_acc: 0.1565\n",
      "Epoch 98/100\n",
      "8000/8000 [==============================] - 20s 3ms/step - loss: 0.2754 - acc: 0.2582 - val_loss: 0.7187 - val_acc: 0.1565\n",
      "Epoch 99/100\n",
      "8000/8000 [==============================] - 20s 3ms/step - loss: 0.2748 - acc: 0.2582 - val_loss: 0.7214 - val_acc: 0.1560\n",
      "Epoch 100/100\n",
      "8000/8000 [==============================] - 20s 3ms/step - loss: 0.2734 - acc: 0.2591 - val_loss: 0.7255 - val_acc: 0.1564\n"
     ]
    },
    {
     "data": {
      "text/plain": [
       "<keras.callbacks.History at 0x7f43f46f8780>"
      ]
     },
     "execution_count": 14,
     "metadata": {},
     "output_type": "execute_result"
    }
   ],
   "source": [
    "# Run training\n",
    "model.compile(optimizer='rmsprop', loss='categorical_crossentropy', metrics=['acc'])\n",
    "model.fit([encoder_input_data, decoder_input_data], decoder_target_data,\n",
    "          batch_size=batch_size,\n",
    "          epochs=epochs,\n",
    "          validation_split=0.2)"
   ]
  },
  {
   "cell_type": "code",
   "execution_count": 23,
   "metadata": {},
   "outputs": [
    {
     "name": "stderr",
     "output_type": "stream",
     "text": [
      "/usr/local/miniconda3/envs/nlpiaenv/lib/python3.6/site-packages/keras/engine/network.py:877: UserWarning: Layer lstm_5 was passed non-serializable keyword arguments: {'initial_state': [<tf.Tensor 'lstm_4/while/Exit_2:0' shape=(?, 256) dtype=float32>, <tf.Tensor 'lstm_4/while/Exit_3:0' shape=(?, 256) dtype=float32>]}. They will not be included in the serialized model (and thus will be missing at deserialization time).\n",
      "  '. They will not be included '\n"
     ]
    }
   ],
   "source": [
    "model_path = os.path.join(DATA_PATH, 'ch10_train_seq2seq_keras')\n",
    "model.save(model_path + '_model.h5')"
   ]
  },
  {
   "cell_type": "code",
   "execution_count": 24,
   "metadata": {},
   "outputs": [
    {
     "data": {
      "text/plain": [
       "'/home/michael/python/projects/nlpia/src/nlpia/data/ch10_train_seq2seq_keras'"
      ]
     },
     "execution_count": 24,
     "metadata": {},
     "output_type": "execute_result"
    }
   ],
   "source": [
    "model_path"
   ]
  },
  {
   "cell_type": "code",
   "execution_count": 25,
   "metadata": {},
   "outputs": [],
   "source": [
    "model.save_weights(model_path + '_weights.h5')"
   ]
  },
  {
   "cell_type": "markdown",
   "metadata": {},
   "source": [
    "# Model Inference/Activation without training\n",
    "Everything below can be run without rerunning training  \n",
    "TODO: put these cells in a separate notebook named ch10_inference_...  "
   ]
  },
  {
   "cell_type": "code",
   "execution_count": 26,
   "metadata": {},
   "outputs": [],
   "source": [
    "from keras.models import load_model\n",
    "\n",
    "model_path = os.path.join(DATA_PATH, 'ch10_train_seq2seq_keras')\n",
    "model = load_model(model_path + '_model.h5')"
   ]
  },
  {
   "cell_type": "code",
   "execution_count": 27,
   "metadata": {},
   "outputs": [],
   "source": [
    "model.load_weights(model_path + '_weights.h5')"
   ]
  },
  {
   "cell_type": "code",
   "execution_count": 28,
   "metadata": {},
   "outputs": [
    {
     "name": "stderr",
     "output_type": "stream",
     "text": [
      "/usr/local/miniconda3/envs/nlpiaenv/lib/python3.6/site-packages/ipykernel_launcher.py:11: UserWarning: Update your `Model` call to the Keras 2 API: `Model(inputs=[<tf.Tenso..., outputs=[<tf.Tenso...)`\n",
      "  # This is added back by InteractiveShellApp.init_path()\n"
     ]
    }
   ],
   "source": [
    "encoder_model = Model(encoder_inputs, encoder_states)\n",
    "thought_input = [\n",
    "    Input(shape=(num_neurons,)), Input(shape=(num_neurons,))]\n",
    "decoder_outputs, state_h, state_c = decoder_lstm(\n",
    "    decoder_inputs, initial_state=thought_input)\n",
    "decoder_states = [state_h, state_c]\n",
    "decoder_outputs = decoder_dense(decoder_outputs)\n",
    "\n",
    "decoder_model = Model(\n",
    "    inputs=[decoder_inputs] + thought_input,\n",
    "    output=[decoder_outputs] + decoder_states)"
   ]
  },
  {
   "cell_type": "code",
   "execution_count": 29,
   "metadata": {},
   "outputs": [],
   "source": [
    ">>> def decode_sequence(input_seq):\n",
    "...     thought = encoder_model.predict(input_seq)  # <1>\n",
    "\n",
    "...     target_seq = np.zeros((1, 1, output_vocab_size))  # <2>\n",
    "...     target_seq[0, 0, target_token_index[stop_token]\n",
    "...         ] = 1.  # <3>\n",
    "...     stop_condition = False\n",
    "...     generated_sequence = ''\n",
    "\n",
    "...     while not stop_condition:\n",
    "...         output_tokens, h, c = decoder_model.predict(\n",
    "...             [target_seq] + thought) # <4>\n",
    "\n",
    "...         generated_token_idx = np.argmax(output_tokens[0, -1, :])\n",
    "...         generated_char = reverse_target_char_index[generated_token_idx]\n",
    "...         generated_sequence += generated_char\n",
    "...         if (generated_char == stop_token or\n",
    "...                 len(generated_sequence) > max_decoder_seq_length\n",
    "...                 ):  # <5>\n",
    "...             stop_condition = True\n",
    "\n",
    "...         target_seq = np.zeros((1, 1, output_vocab_size))  # <6>\n",
    "...         target_seq[0, 0, generated_token_idx] = 1.\n",
    "...         thought = [h, c]  # <7>\n",
    "\n",
    "...     return generated_sequence"
   ]
  },
  {
   "cell_type": "code",
   "execution_count": null,
   "metadata": {},
   "outputs": [],
   "source": []
  }
 ],
 "metadata": {
  "kernelspec": {
   "display_name": "nlpiaenv",
   "language": "python",
   "name": "nlpiaenv"
  },
  "language_info": {
   "codemirror_mode": {
    "name": "ipython",
    "version": 3
   },
   "file_extension": ".py",
   "mimetype": "text/x-python",
   "name": "python",
   "nbconvert_exporter": "python",
   "pygments_lexer": "ipython3",
   "version": "3.6.8"
  }
 },
 "nbformat": 4,
 "nbformat_minor": 2
}
