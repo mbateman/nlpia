{
 "cells": [
  {
   "cell_type": "code",
   "execution_count": 3,
   "metadata": {},
   "outputs": [],
   "source": [
    "sample_data = [[0, 0],\n",
    "[0, 1],\n",
    "[1, 0],\n",
    "[1, 1]]\n",
    "expected_results = [0,\n",
    "1,\n",
    "1,\n",
    "1]\n",
    "activation_threshold = 0.5"
   ]
  },
  {
   "cell_type": "code",
   "execution_count": 31,
   "metadata": {
    "scrolled": true
   },
   "outputs": [],
   "source": [
    "from random import random\n",
    "import numpy as np"
   ]
  },
  {
   "cell_type": "code",
   "execution_count": 32,
   "metadata": {},
   "outputs": [
    {
     "data": {
      "text/plain": [
       "array([0.00092451, 0.0006797 ])"
      ]
     },
     "execution_count": 32,
     "metadata": {},
     "output_type": "execute_result"
    }
   ],
   "source": [
    "weights = np.random.random(2)/1000 # Small random float 0 < w < .001\n",
    "weights"
   ]
  },
  {
   "cell_type": "code",
   "execution_count": 33,
   "metadata": {},
   "outputs": [
    {
     "data": {
      "text/plain": [
       "0.0008038437201964615"
      ]
     },
     "execution_count": 33,
     "metadata": {},
     "output_type": "execute_result"
    }
   ],
   "source": [
    "bias_weight = np.random.random() / 1000\n",
    "bias_weight"
   ]
  },
  {
   "cell_type": "code",
   "execution_count": 22,
   "metadata": {},
   "outputs": [
    {
     "name": "stdout",
     "output_type": "stream",
     "text": [
      "Predicted 0\n",
      "Expected: 0\n",
      "\n",
      "Predicted 0\n",
      "Expected: 1\n",
      "\n",
      "Predicted 0\n",
      "Expected: 1\n",
      "\n",
      "Predicted 0\n",
      "Expected: 1\n",
      "\n"
     ]
    }
   ],
   "source": [
    "for idx, sample in enumerate(sample_data):\n",
    "    input_vector = np.array(sample)\n",
    "    activation_level = np.dot(input_vector, weights) + (bias_weight * 1)\n",
    "    if activation_level > activation_threshold:\n",
    "        perceptron_output = 1\n",
    "    else:\n",
    "        perceptron_output = 0\n",
    "    print('Predicted {}'.format(perceptron_output))\n",
    "    print('Expected: {}'.format(expected_results[idx]))\n",
    "    print()"
   ]
  },
  {
   "cell_type": "code",
   "execution_count": 34,
   "metadata": {},
   "outputs": [
    {
     "name": "stdout",
     "output_type": "stream",
     "text": [
      "updated weights [0.00092451 0.0006797 ]\n",
      "updated weights [9.24510669e-04 1.00067970e+00]\n",
      "updated weights [9.24510669e-04 1.00067970e+00]\n",
      "updated weights [9.24510669e-04 1.00067970e+00]\n",
      "3 correct answers out of 4, for iteration 0\n",
      "updated weights [9.24510669e-04 1.00067970e+00]\n",
      "updated weights [9.24510669e-04 1.00067970e+00]\n",
      "updated weights [1.00092451 1.0006797 ]\n",
      "updated weights [1.00092451 1.0006797 ]\n",
      "2 correct answers out of 4, for iteration 1\n",
      "updated weights [1.00092451 1.0006797 ]\n",
      "updated weights [1.00092451 1.0006797 ]\n",
      "updated weights [1.00092451 1.0006797 ]\n",
      "updated weights [1.00092451 1.0006797 ]\n",
      "3 correct answers out of 4, for iteration 2\n",
      "updated weights [1.00092451 1.0006797 ]\n",
      "updated weights [1.00092451 1.0006797 ]\n",
      "updated weights [1.00092451 1.0006797 ]\n",
      "updated weights [1.00092451 1.0006797 ]\n",
      "4 correct answers out of 4, for iteration 3\n",
      "updated weights [1.00092451 1.0006797 ]\n",
      "updated weights [1.00092451 1.0006797 ]\n",
      "updated weights [1.00092451 1.0006797 ]\n",
      "updated weights [1.00092451 1.0006797 ]\n",
      "4 correct answers out of 4, for iteration 4\n"
     ]
    }
   ],
   "source": [
    "for iteration_num in range(5):\n",
    "    correct_answers = 0\n",
    "\n",
    "    for idx, sample in enumerate(sample_data):\n",
    "        input_vector = np.array(sample)\n",
    "        weights = np.array(weights)\n",
    "        activation_level = np.dot(input_vector, weights) + (bias_weight * 1)\n",
    "        \n",
    "        if activation_level > activation_threshold:\n",
    "            perceptron_output = 1\n",
    "        else:\n",
    "            perceptron_output = 0\n",
    "        \n",
    "        if perceptron_output == expected_results[idx]:\n",
    "            correct_answers += 1\n",
    "\n",
    "        new_weights = []\n",
    "        \n",
    "        for i, x in enumerate(sample):\n",
    "            new_weights.append(weights[i] + (expected_results[idx] - perceptron_output) * x)\n",
    "        \n",
    "        bias_weight = bias_weight + ((expected_results[idx] - perceptron_output) * 1)\n",
    "        weights = np.array(new_weights)\n",
    "        print('updated weights', weights)\n",
    "\n",
    "    print('{} correct answers out of 4, for iteration {}'.format(correct_answers, iteration_num))"
   ]
  },
  {
   "cell_type": "code",
   "execution_count": null,
   "metadata": {},
   "outputs": [],
   "source": []
  }
 ],
 "metadata": {
  "kernelspec": {
   "display_name": "nlpia",
   "language": "python",
   "name": "nlpia"
  },
  "language_info": {
   "codemirror_mode": {
    "name": "ipython",
    "version": 3
   },
   "file_extension": ".py",
   "mimetype": "text/x-python",
   "name": "python",
   "nbconvert_exporter": "python",
   "pygments_lexer": "ipython3",
   "version": "3.6.6"
  }
 },
 "nbformat": 4,
 "nbformat_minor": 2
}
